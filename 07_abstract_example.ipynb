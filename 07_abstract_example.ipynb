{
 "cells": [
  {
   "cell_type": "markdown",
   "metadata": {},
   "source": [
    "Подключаться к разным БД, по одному API"
   ]
  },
  {
   "cell_type": "code",
   "execution_count": 2,
   "metadata": {},
   "outputs": [],
   "source": [
    "# PostgreSQL().connect().select('query').delete_table()"
   ]
  },
  {
   "cell_type": "code",
   "execution_count": 3,
   "metadata": {},
   "outputs": [],
   "source": [
    "# MongoDB().connect().select('query')"
   ]
  },
  {
   "cell_type": "code",
   "execution_count": 4,
   "metadata": {},
   "outputs": [],
   "source": [
    "# dbs = [PostgreSQL, MongoDB]\n",
    "\n",
    "# for db in dbs:\n",
    "#     db().connect().select('query')"
   ]
  },
  {
   "cell_type": "code",
   "execution_count": 5,
   "metadata": {},
   "outputs": [],
   "source": [
    "from abc import ABC, abstractmethod"
   ]
  },
  {
   "cell_type": "code",
   "execution_count": 27,
   "metadata": {},
   "outputs": [],
   "source": [
    "class AbstractDataBase(ABC):\n",
    "    def __init__(self):\n",
    "        self.__is_connected = False\n",
    "        \n",
    "    @property\n",
    "    def is_connected(self):\n",
    "        return self.__is_connected\n",
    "    \n",
    "#     @is_connected.setter\n",
    "#     def is_connected(self, arg):\n",
    "#         self.__is_connected = arg\n",
    "#         return self\n",
    "    \n",
    "#     @abstractmethod\n",
    "    def connect(self):\n",
    "        if not self.is_connected:\n",
    "            self.__is_connected = True\n",
    "        else:\n",
    "            print('Already connected')\n",
    "    \n",
    "    @abstractmethod\n",
    "    def select(self, query):\n",
    "        pass\n",
    "    \n",
    "    @abstractmethod\n",
    "    def delete_table(self, table_name):\n",
    "        pass"
   ]
  },
  {
   "cell_type": "code",
   "execution_count": 39,
   "metadata": {},
   "outputs": [],
   "source": [
    "class PostgreSQLDataBase(AbstractDataBase):\n",
    "    \n",
    "    def connect(self):\n",
    "        super().connect()\n",
    "        if self.is_connected:\n",
    "            print('Connected to PostgreSQL')\n",
    "        return self\n",
    "    \n",
    "    def select(self, query):\n",
    "        print(f\"PostgreSQL query: {query}\")\n",
    "        return self\n",
    "    \n",
    "    def delete_table(self, table_name):\n",
    "        print(f\"PostgreSQL table {table_name} was deleted\")\n",
    "        return self"
   ]
  },
  {
   "cell_type": "code",
   "execution_count": 40,
   "metadata": {},
   "outputs": [],
   "source": [
    "class MongoDataBase(AbstractDataBase):\n",
    "    \n",
    "    def connect(self):\n",
    "        super().connect()\n",
    "        if self.is_connected:\n",
    "            print('Connected to MongoDB')\n",
    "        return self\n",
    "    \n",
    "    def select(self, query):\n",
    "        print(f\"MongoDB query: {query}\")\n",
    "        return self\n",
    "    \n",
    "    def delete_table(self, table_name):\n",
    "        print(f\"MongoDB table {table_name} was deleted\")\n",
    "        return self"
   ]
  },
  {
   "cell_type": "code",
   "execution_count": 51,
   "metadata": {},
   "outputs": [],
   "source": [
    "class NewDataBase(AbstractDataBase):\n",
    "    \n",
    "    def connect(self):\n",
    "        super().connect()\n",
    "        if self.is_connected:\n",
    "            print('Connected to NewDB')\n",
    "        return self\n",
    "    \n",
    "    def select(self, query):\n",
    "        print(f\"NewDB query: {query}\")\n",
    "        return self\n",
    "    \n",
    "    def delete_table(self, table_name):\n",
    "        raise NotImplementedError"
   ]
  },
  {
   "cell_type": "code",
   "execution_count": 52,
   "metadata": {},
   "outputs": [],
   "source": [
    "ndb = NewDataBase()"
   ]
  },
  {
   "cell_type": "code",
   "execution_count": 54,
   "metadata": {},
   "outputs": [
    {
     "ename": "NotImplementedError",
     "evalue": "",
     "output_type": "error",
     "traceback": [
      "\u001b[0;31m---------------------------------------------------------------------------\u001b[0m",
      "\u001b[0;31mNotImplementedError\u001b[0m                       Traceback (most recent call last)",
      "\u001b[0;32m<ipython-input-54-317849ece97d>\u001b[0m in \u001b[0;36m<module>\u001b[0;34m\u001b[0m\n\u001b[0;32m----> 1\u001b[0;31m \u001b[0mndb\u001b[0m\u001b[0;34m.\u001b[0m\u001b[0mdelete_table\u001b[0m\u001b[0;34m(\u001b[0m\u001b[0;34m'tre'\u001b[0m\u001b[0;34m)\u001b[0m\u001b[0;34m\u001b[0m\u001b[0;34m\u001b[0m\u001b[0m\n\u001b[0m",
      "\u001b[0;32m<ipython-input-51-9fb1eac7ff65>\u001b[0m in \u001b[0;36mdelete_table\u001b[0;34m(self, table_name)\u001b[0m\n\u001b[1;32m     12\u001b[0m \u001b[0;34m\u001b[0m\u001b[0m\n\u001b[1;32m     13\u001b[0m     \u001b[0;32mdef\u001b[0m \u001b[0mdelete_table\u001b[0m\u001b[0;34m(\u001b[0m\u001b[0mself\u001b[0m\u001b[0;34m,\u001b[0m \u001b[0mtable_name\u001b[0m\u001b[0;34m)\u001b[0m\u001b[0;34m:\u001b[0m\u001b[0;34m\u001b[0m\u001b[0;34m\u001b[0m\u001b[0m\n\u001b[0;32m---> 14\u001b[0;31m         \u001b[0;32mraise\u001b[0m \u001b[0mNotImplementedError\u001b[0m\u001b[0;34m\u001b[0m\u001b[0;34m\u001b[0m\u001b[0m\n\u001b[0m",
      "\u001b[0;31mNotImplementedError\u001b[0m: "
     ]
    }
   ],
   "source": [
    "ndb.delete_table('tre')"
   ]
  },
  {
   "cell_type": "code",
   "execution_count": 41,
   "metadata": {},
   "outputs": [],
   "source": [
    "pdb = PostgreSQLDataBase()\n",
    "mdb = MongoDataBase()"
   ]
  },
  {
   "cell_type": "code",
   "execution_count": 38,
   "metadata": {},
   "outputs": [
    {
     "name": "stdout",
     "output_type": "stream",
     "text": [
      "Already connected\n",
      "Connected to PostgreSQL\n",
      "PostgreSQL query: select * from table;\n",
      "PostgreSQL table table was deleted\n"
     ]
    },
    {
     "data": {
      "text/plain": [
       "<__main__.PostgreSQLDataBase at 0x7f2b031eebb0>"
      ]
     },
     "execution_count": 38,
     "metadata": {},
     "output_type": "execute_result"
    }
   ],
   "source": [
    "pdb.connect().select('select * from table;').delete_table('table')"
   ]
  },
  {
   "cell_type": "code",
   "execution_count": 48,
   "metadata": {},
   "outputs": [
    {
     "ename": "AttributeError",
     "evalue": "'PostgreSQLDataBase' object has no attribute 'PostgreSQLDataBase__is_connected'",
     "output_type": "error",
     "traceback": [
      "\u001b[0;31m---------------------------------------------------------------------------\u001b[0m",
      "\u001b[0;31mAttributeError\u001b[0m                            Traceback (most recent call last)",
      "\u001b[0;32m<ipython-input-48-f151c525d3d6>\u001b[0m in \u001b[0;36m<module>\u001b[0;34m\u001b[0m\n\u001b[0;32m----> 1\u001b[0;31m \u001b[0mpdb\u001b[0m\u001b[0;34m.\u001b[0m\u001b[0mPostgreSQLDataBase__is_connected\u001b[0m\u001b[0;34m\u001b[0m\u001b[0;34m\u001b[0m\u001b[0m\n\u001b[0m",
      "\u001b[0;31mAttributeError\u001b[0m: 'PostgreSQLDataBase' object has no attribute 'PostgreSQLDataBase__is_connected'"
     ]
    }
   ],
   "source": [
    "pdb.PostgreSQLDataBase__is_connected"
   ]
  },
  {
   "cell_type": "code",
   "execution_count": null,
   "metadata": {},
   "outputs": [],
   "source": []
  }
 ],
 "metadata": {
  "kernelspec": {
   "display_name": "Python 3.8.5 64-bit ('venv': venv)",
   "language": "python",
   "name": "python38564bitvenvvenv00e19ac7737949998ba8aff469053ee2"
  },
  "language_info": {
   "codemirror_mode": {
    "name": "ipython",
    "version": 3
   },
   "file_extension": ".py",
   "mimetype": "text/x-python",
   "name": "python",
   "nbconvert_exporter": "python",
   "pygments_lexer": "ipython3",
   "version": "3.8.5"
  }
 },
 "nbformat": 4,
 "nbformat_minor": 2
}
