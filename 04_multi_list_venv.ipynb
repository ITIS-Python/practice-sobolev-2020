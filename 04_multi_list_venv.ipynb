{
 "cells": [
  {
   "cell_type": "markdown",
   "metadata": {},
   "source": [
    "# Многомерные списки"
   ]
  },
  {
   "cell_type": "code",
   "execution_count": 6,
   "metadata": {},
   "outputs": [],
   "source": [
    "some_list = [[1,2,3], [4,5,6]]"
   ]
  },
  {
   "cell_type": "code",
   "execution_count": 7,
   "metadata": {
    "tags": []
   },
   "outputs": [
    {
     "name": "stdout",
     "output_type": "stream",
     "text": [
      "[1, 2, 3]\n",
      "[4, 5, 6]\n"
     ]
    }
   ],
   "source": [
    "for sub_list in some_list:\n",
    "    print(sub_list)"
   ]
  },
  {
   "cell_type": "code",
   "execution_count": 9,
   "metadata": {},
   "outputs": [
    {
     "data": {
      "text/plain": [
       "1"
      ]
     },
     "execution_count": 9,
     "metadata": {},
     "output_type": "execute_result"
    }
   ],
   "source": [
    "some_list[0][0]"
   ]
  },
  {
   "cell_type": "code",
   "execution_count": 4,
   "metadata": {
    "tags": []
   },
   "outputs": [
    {
     "name": "stdout",
     "output_type": "stream",
     "text": [
      "1 2 3\n",
      "4 5 6\n"
     ]
    }
   ],
   "source": [
    "for sub_list in some_list:\n",
    "    print(sub_list[0], sub_list[1], sub_list[2])"
   ]
  },
  {
   "cell_type": "code",
   "execution_count": 5,
   "metadata": {
    "tags": []
   },
   "outputs": [
    {
     "name": "stdout",
     "output_type": "stream",
     "text": [
      "1 2 3\n",
      "4 5 6\n"
     ]
    }
   ],
   "source": [
    "# Destructing / unpacking\n",
    "\n",
    "for first_e, secod_e, third_e in some_list:\n",
    "    print(first_e, secod_e, third_e)"
   ]
  },
  {
   "cell_type": "code",
   "execution_count": 6,
   "metadata": {},
   "outputs": [
    {
     "data": {
      "text/plain": [
       "[[0, 1, 2], [0, 1, 2]]"
      ]
     },
     "execution_count": 6,
     "metadata": {},
     "output_type": "execute_result"
    }
   ],
   "source": [
    "# Как сделать многомерный список?\n",
    "\n",
    "[[i for i in range(3)]] * 2"
   ]
  },
  {
   "cell_type": "code",
   "execution_count": 7,
   "metadata": {},
   "outputs": [
    {
     "data": {
      "text/plain": [
       "[[3, 3, 3], [3, 3, 3], [3, 3, 3]]"
      ]
     },
     "execution_count": 7,
     "metadata": {},
     "output_type": "execute_result"
    }
   ],
   "source": [
    "[[3] * 3] * 3"
   ]
  },
  {
   "cell_type": "code",
   "execution_count": 1,
   "metadata": {},
   "outputs": [],
   "source": [
    "matrix = [[3] * 3] * 3"
   ]
  },
  {
   "cell_type": "code",
   "execution_count": 4,
   "metadata": {},
   "outputs": [
    {
     "data": {
      "text/plain": [
       "3"
      ]
     },
     "execution_count": 4,
     "metadata": {},
     "output_type": "execute_result"
    }
   ],
   "source": [
    "matrix[0][1]"
   ]
  },
  {
   "cell_type": "code",
   "execution_count": null,
   "metadata": {},
   "outputs": [],
   "source": []
  },
  {
   "cell_type": "markdown",
   "metadata": {},
   "source": [
    "# VENV\n",
    "<img src=\"./images/04/python_venv.jpg\" alt=\"venv\" width=\"700\"/>\n",
    "\n",
    "###  Как использовать venv?\n",
    "```\n",
    "# создаем виртуальное окружение\n",
    "python -m venv venv\n",
    "\n",
    "# активируем на linux, mac\n",
    "source venv/bin/activate\n",
    "\n",
    "# активируем на windows\n",
    "source venv/Scripts/activate\n",
    "```\n",
    "\n",
    "<img src=\"./images/04/terminal.png\" alt=\"terminal\"/>\n",
    "\n",
    "# PIP\n",
    "\n",
    "pip - пакетный менеджер, откуда можно скачивать разные библиотеки, пакеты и тд.\n",
    "\n",
    "https://pypi.org/"
   ]
  },
  {
   "cell_type": "code",
   "execution_count": 8,
   "metadata": {
    "tags": []
   },
   "outputs": [
    {
     "name": "stdout",
     "output_type": "stream",
     "text": [
      "Package             Version\n",
      "------------------- -------\n",
      "argon2-cffi         20.1.0\n",
      "async-generator     1.10\n",
      "attrs               20.2.0\n",
      "backcall            0.2.0\n",
      "bleach              3.2.1\n",
      "cffi                1.14.3\n",
      "decorator           4.4.2\n",
      "defusedxml          0.6.0\n",
      "entrypoints         0.3\n",
      "ipykernel           5.3.4\n",
      "ipython             7.18.1\n",
      "ipython-genutils    0.2.0\n",
      "ipywidgets          7.5.1\n",
      "jedi                0.17.2\n",
      "Jinja2              2.11.2\n",
      "jsonschema          3.2.0\n",
      "jupyter             1.0.0\n",
      "jupyter-client      6.1.7\n",
      "jupyter-console     6.2.0\n",
      "jupyter-core        4.6.3\n",
      "jupyterlab-pygments 0.1.1\n",
      "MarkupSafe          1.1.1\n",
      "mistune             0.8.4\n",
      "nbclient            0.5.0\n",
      "nbconvert           6.0.5\n",
      "nbformat            5.0.7\n",
      "nest-asyncio        1.4.0\n",
      "notebook            6.1.4\n",
      "packaging           20.4\n",
      "pandocfilters       1.4.2\n",
      "parso               0.7.1\n",
      "pexpect             4.8.0\n",
      "pickleshare         0.7.5\n",
      "pip                 20.2.3\n",
      "prometheus-client   0.8.0\n",
      "prompt-toolkit      3.0.7\n",
      "ptyprocess          0.6.0\n",
      "pycparser           2.20\n",
      "Pygments            2.7.1\n",
      "pyparsing           2.4.7\n",
      "pyrsistent          0.17.3\n",
      "python-dateutil     2.8.1\n",
      "pyzmq               19.0.2\n",
      "qtconsole           4.7.7\n",
      "QtPy                1.9.0\n",
      "Send2Trash          1.5.0\n",
      "setuptools          47.1.0\n",
      "six                 1.15.0\n",
      "terminado           0.9.1\n",
      "testpath            0.4.4\n",
      "tornado             6.0.4\n",
      "traitlets           5.0.4\n",
      "wcwidth             0.2.5\n",
      "webencodings        0.5.1\n",
      "widgetsnbextension  3.5.1\n"
     ]
    }
   ],
   "source": [
    "!pip list"
   ]
  },
  {
   "cell_type": "code",
   "execution_count": 9,
   "metadata": {
    "tags": []
   },
   "outputs": [
    {
     "name": "stdout",
     "output_type": "stream",
     "text": [
      "argon2-cffi==20.1.0\n",
      "async-generator==1.10\n",
      "attrs==20.2.0\n",
      "backcall==0.2.0\n",
      "bleach==3.2.1\n",
      "cffi==1.14.3\n",
      "decorator==4.4.2\n",
      "defusedxml==0.6.0\n",
      "entrypoints==0.3\n",
      "ipykernel==5.3.4\n",
      "ipython==7.18.1\n",
      "ipython-genutils==0.2.0\n",
      "ipywidgets==7.5.1\n",
      "jedi==0.17.2\n",
      "Jinja2==2.11.2\n",
      "jsonschema==3.2.0\n",
      "jupyter==1.0.0\n",
      "jupyter-client==6.1.7\n",
      "jupyter-console==6.2.0\n",
      "jupyter-core==4.6.3\n",
      "jupyterlab-pygments==0.1.1\n",
      "MarkupSafe==1.1.1\n",
      "mistune==0.8.4\n",
      "nbclient==0.5.0\n",
      "nbconvert==6.0.5\n",
      "nbformat==5.0.7\n",
      "nest-asyncio==1.4.0\n",
      "notebook==6.1.4\n",
      "packaging==20.4\n",
      "pandocfilters==1.4.2\n",
      "parso==0.7.1\n",
      "pexpect==4.8.0\n",
      "pickleshare==0.7.5\n",
      "prometheus-client==0.8.0\n",
      "prompt-toolkit==3.0.7\n",
      "ptyprocess==0.6.0\n",
      "pycparser==2.20\n",
      "Pygments==2.7.1\n",
      "pyparsing==2.4.7\n",
      "pyrsistent==0.17.3\n",
      "python-dateutil==2.8.1\n",
      "pyzmq==19.0.2\n",
      "qtconsole==4.7.7\n",
      "QtPy==1.9.0\n",
      "Send2Trash==1.5.0\n",
      "six==1.15.0\n",
      "terminado==0.9.1\n",
      "testpath==0.4.4\n",
      "tornado==6.0.4\n",
      "traitlets==5.0.4\n",
      "wcwidth==0.2.5\n",
      "webencodings==0.5.1\n",
      "widgetsnbextension==3.5.1\n"
     ]
    }
   ],
   "source": [
    "!pip freeze"
   ]
  },
  {
   "cell_type": "code",
   "execution_count": 10,
   "metadata": {
    "tags": []
   },
   "outputs": [
    {
     "name": "stdout",
     "output_type": "stream",
     "text": [
      "Collecting numpy\n",
      "  Using cached numpy-1.19.2-cp38-cp38-manylinux2010_x86_64.whl (14.5 MB)\n",
      "Installing collected packages: numpy\n",
      "Successfully installed numpy-1.19.2\n"
     ]
    }
   ],
   "source": [
    "!pip install numpy"
   ]
  },
  {
   "cell_type": "code",
   "execution_count": 11,
   "metadata": {},
   "outputs": [],
   "source": [
    "import numpy as np"
   ]
  },
  {
   "cell_type": "code",
   "execution_count": 13,
   "metadata": {},
   "outputs": [
    {
     "data": {
      "text/plain": [
       "array([[1, 2, 3],\n",
       "       [4, 5, 6],\n",
       "       [7, 8, 9]])"
      ]
     },
     "execution_count": 13,
     "metadata": {},
     "output_type": "execute_result"
    }
   ],
   "source": [
    "np.array([[1,2,3], [4,5,6], [7,8,9]])"
   ]
  },
  {
   "cell_type": "code",
   "execution_count": 15,
   "metadata": {},
   "outputs": [],
   "source": [
    "source_matrix = [[1,2,3], [4,5,6], [7,8,9]]\n",
    "# ваш код\n",
    "output_matrix = [[1, 4, 7], [2, 5, 8], [3, 6, 9]]"
   ]
  },
  {
   "cell_type": "code",
   "execution_count": 16,
   "metadata": {
    "scrolled": true
   },
   "outputs": [
    {
     "data": {
      "text/plain": [
       "array([[ True,  True,  True],\n",
       "       [ True,  True,  True],\n",
       "       [ True,  True,  True]])"
      ]
     },
     "execution_count": 16,
     "metadata": {},
     "output_type": "execute_result"
    }
   ],
   "source": [
    "np.array(source_matrix).T == output_matrix"
   ]
  },
  {
   "cell_type": "markdown",
   "metadata": {},
   "source": [
    "# Задания"
   ]
  },
  {
   "cell_type": "markdown",
   "metadata": {},
   "source": [
    "# Задание 1\n",
    "\n",
    "`transpose.py`\n",
    "\n",
    "Вводится квадратная матрица (в строке числа разделены пробелом, сами строки - переносом строки). Выведите транспонированную матрицу.\n",
    "\n",
    "ВВОД:\n",
    "```python\n",
    "1 2 3\n",
    "4 5 6\n",
    "7 8 9\n",
    "\n",
    "r'1 2 3\\n4 5 6\\n7 8 9\\n'\n",
    "```\n",
    "ВЫВОД:\n",
    "```python\n",
    "1 4 7\n",
    "2 5 8\n",
    "3 6 9\n",
    "\n",
    "r'1 4 7\\n2 5 8\\n3 6 9\\n'\n",
    "```\n",
    "\n",
    "# Задание 2\n",
    "\n",
    "`multiply.py`\n",
    "\n",
    "(данное задание не будет проверять на функциональность, автотесты не справятся, но файл должен быть!)\n",
    "\n",
    "Вводится четыре числа через пробел. Первое - ширина первой матрицы, второе - высота первой матрицы, третье - ширина второй матрицы, четвёртое - высота второй матрицы. Далее построчно вводятся сами матрицы (в строке элементы разделены пробелами, никаких разделителей в вводе между матрицами нет, оперируйте данными, где 4 числа через пробел). \n",
    "Выведите произведение матриц, если это возможно, иначе выведите -1."
   ]
  },
  {
   "cell_type": "markdown",
   "metadata": {},
   "source": [
    "# ДЗ\n",
    "\n",
    "# Задание 1\n",
    "\n",
    "`spiral.py`\n",
    "\n",
    "Вводится квадратная числовая матрица (в строке числа разделены пробелом, сами строки - переносом строки). Обойдите её по спирали. Результат выведите в виде списка - print(result_list)\n",
    "\n",
    "ВВОД:\n",
    "```python\n",
    "1 2 3\n",
    "4 5 6\n",
    "7 8 9\n",
    "\n",
    "r'1 2 3\\n4 5 6\\n7 8 9\\n'\n",
    "```\n",
    "ВЫВОД: ```[1, 2, 3, 6, 9, 8, 7, 4, 5]```\n",
    "\n",
    "---\n",
    "\n",
    "# Задание 2\n",
    "\n",
    "`triangle.py`\n",
    "\n",
    "Вводится квадратная матрица размера n×n (в строке числа разделены пробелом, сами строки - переносом строки). Привести ее к треугольному виду и вывести - print(result_list)\n",
    "\n",
    "\n",
    "ВВОД:\n",
    "```python\n",
    "1 2 3\n",
    "4 5 6\n",
    "7 8 9\n",
    "\n",
    "r'1 2 3\\n4 5 6\\n7 8 9\\n'\n",
    "```\n",
    "ВЫВОД: \n",
    "```\n",
    "  1\n",
    "\n",
    " 234\n",
    "\n",
    "56789\n",
    "\n",
    "r'  1\\n\\n 234\\n\\n56789'",
    "```\n",
    "\n",
    "---\n",
    "\n",
    "\n",
    "# Задание 3\n",
    "\n",
    "`paskal.py`\n",
    "\n",
    "Вводится n. Вывести [треугольник Паскаля](https://ru.wikipedia.org/wiki/%D0%A2%D1%80%D0%B5%D1%83%D0%B3%D0%BE%D0%BB%D1%8C%D0%BD%D0%B8%D0%BA_%D0%9F%D0%B0%D1%81%D0%BA%D0%B0%D0%BB%D1%8F) по n-ую строку построчно, числа должны разделяться пробелами.\n",
    "\n",
    "\n",
    "ВВОД: `2`\n",
    "ВЫВОД: \n",
    "```\n",
    "  1\n",
    "\n",
    " 1 1\n",
    "\n",
    "1 2 1\n",
    "\n",
    "r'  1\\n\\n 1 1\\n\\n1 2 1'",
    "```"
   ]
  },
  {
   "cell_type": "code",
   "execution_count": null,
   "metadata": {},
   "outputs": [],
   "source": []
  }
 ],
 "metadata": {
  "kernelspec": {
   "display_name": "Python 3.8.5 64-bit ('venv': venv)",
   "language": "python",
   "name": "python38564bitvenvvenv00e19ac7737949998ba8aff469053ee2"
  },
  "language_info": {
   "codemirror_mode": {
    "name": "ipython",
    "version": 3
   },
   "file_extension": ".py",
   "mimetype": "text/x-python",
   "name": "python",
   "nbconvert_exporter": "python",
   "pygments_lexer": "ipython3",
   "version": "3.8.5"
  }
 },
 "nbformat": 4,
 "nbformat_minor": 2
}
