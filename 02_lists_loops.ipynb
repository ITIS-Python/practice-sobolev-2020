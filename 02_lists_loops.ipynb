{
 "cells": [
  {
   "cell_type": "markdown",
   "metadata": {},
   "source": [
    "# Базовые структуры\n",
    "\n",
    "В python есть четыре базовые структуры данных:\n",
    "\n",
    "- список (list)\n",
    "- кортеж (tuple)\n",
    "- словарь (dict)\n",
    "- множество (set)\n",
    "\n",
    "Указанные структуры данных не требуют дополнительных импортов. Дополнительные структуры данных можно найти в других модулях и пакетах, например, [collections](https://docs.python.org/3.6/library/collections.html)."
   ]
  },
  {
   "cell_type": "markdown",
   "metadata": {},
   "source": [
    "# Список\n",
    "\n",
    "Изменяемая (mutable) упорядоченная структура данных. Инстанцировать список можно следующими способами:"
   ]
  },
  {
   "cell_type": "code",
   "execution_count": 1,
   "metadata": {},
   "outputs": [],
   "source": [
    "a = []\n",
    "\n",
    "b = [1]\n",
    "\n",
    "c = [1, 2, 3]\n",
    "\n",
    "d = [x for x in range(3)]\n",
    "\n",
    "e = list()\n",
    "\n",
    "f = list(range(3))"
   ]
  },
  {
   "cell_type": "markdown",
   "metadata": {},
   "source": [
    "# Основные методы\n",
    "\n",
    "- append - добавляет элемент в конец списка;\n",
    "- extend - добавляет последовательность элементов в конец списка;\n",
    "- insert - вставляет элемент на указанную позицию;\n",
    "- remove - удаляет первое вхождение элемента в список. Если элемент не найден - будет вызвано исключение;\n",
    "- pop - удаляет элемент списка на выбранной позиции и возвращает его;\n",
    "- count - возвращает количество вхождений элемента в список;\n",
    "- sort - сортирует элементы списка по заданному условию.\n",
    "\n",
    "# Примеры использования"
   ]
  },
  {
   "cell_type": "code",
   "execution_count": 2,
   "metadata": {
    "tags": []
   },
   "outputs": [
    {
     "name": "stdout",
     "output_type": "stream",
     "text": [
      "[1]\n"
     ]
    }
   ],
   "source": [
    "a = []\n",
    "a.append(1)\n",
    "print(a)"
   ]
  },
  {
   "cell_type": "code",
   "execution_count": 3,
   "metadata": {
    "tags": []
   },
   "outputs": [
    {
     "name": "stdout",
     "output_type": "stream",
     "text": [
      "[1, 2, 3]\n"
     ]
    }
   ],
   "source": [
    "b = []\n",
    "b.extend([1, 2, 3])\n",
    "print(b)"
   ]
  },
  {
   "cell_type": "code",
   "execution_count": 4,
   "metadata": {
    "tags": []
   },
   "outputs": [
    {
     "name": "stdout",
     "output_type": "stream",
     "text": [
      "[4, 2, 5, 6]\n"
     ]
    }
   ],
   "source": [
    "c = [4, 5, 6]\n",
    "c.insert(1, 2)\n",
    "print(c)"
   ]
  },
  {
   "cell_type": "code",
   "execution_count": 5,
   "metadata": {},
   "outputs": [],
   "source": [
    "# [].remove(2)"
   ]
  },
  {
   "cell_type": "code",
   "execution_count": 6,
   "metadata": {
    "tags": []
   },
   "outputs": [
    {
     "name": "stdout",
     "output_type": "stream",
     "text": [
      "[]\n"
     ]
    }
   ],
   "source": [
    "d = [2]\n",
    "d.remove(2)\n",
    "print(d)"
   ]
  },
  {
   "cell_type": "code",
   "execution_count": 7,
   "metadata": {},
   "outputs": [],
   "source": [
    "# [].pop(1)"
   ]
  },
  {
   "cell_type": "code",
   "execution_count": 8,
   "metadata": {},
   "outputs": [
    {
     "data": {
      "text/plain": [
       "3"
      ]
     },
     "execution_count": 8,
     "metadata": {},
     "output_type": "execute_result"
    }
   ],
   "source": [
    "[2, 3].pop(1)"
   ]
  },
  {
   "cell_type": "code",
   "execution_count": 9,
   "metadata": {},
   "outputs": [
    {
     "data": {
      "text/plain": [
       "3"
      ]
     },
     "execution_count": 9,
     "metadata": {},
     "output_type": "execute_result"
    }
   ],
   "source": [
    "[1, 2, 5, 1, 1].count(1)"
   ]
  },
  {
   "cell_type": "code",
   "execution_count": 10,
   "metadata": {
    "tags": []
   },
   "outputs": [
    {
     "name": "stdout",
     "output_type": "stream",
     "text": [
      "[1, 4, 5]\n"
     ]
    }
   ],
   "source": [
    "e = [5, 1, 4]\n",
    "e.sort()\n",
    "print(e)"
   ]
  },
  {
   "cell_type": "code",
   "execution_count": 11,
   "metadata": {
    "tags": []
   },
   "outputs": [
    {
     "name": "stdout",
     "output_type": "stream",
     "text": [
      "[5, 4, 1]\n"
     ]
    }
   ],
   "source": [
    "e = [5, 1, 4]\n",
    "e.sort(reverse=True)\n",
    "print(e)"
   ]
  },
  {
   "cell_type": "code",
   "execution_count": 12,
   "metadata": {
    "tags": []
   },
   "outputs": [
    {
     "name": "stdout",
     "output_type": "stream",
     "text": [
      "[2, 3, 4, 5, 6]\n",
      "[2, 3]\n",
      "[1, 3]\n",
      "[6, 5, 4, 3, 2, 1]\n"
     ]
    }
   ],
   "source": [
    "d = [1, 2, 3, 4, 5, 6]\n",
    "print(d[1:])\n",
    "print(d[1:3])\n",
    "print(d[:3:2])\n",
    "print(d[::-1])"
   ]
  },
  {
   "cell_type": "markdown",
   "metadata": {},
   "source": [
    "# Дополнительная информация\n",
    "\n",
    "- Индексация элементов в списке начинается с 0, а не с 1;\n",
    "- Индексы могут быть отрицательными. В этом случае они обозначают элементы, начиная с конца списка;\n",
    "- Список может быть использован для реализации стека."
   ]
  },
  {
   "cell_type": "markdown",
   "metadata": {},
   "source": [
    "# Кортеж\n",
    "\n",
    "Неизменяемая (immutable) упорядоченная структура данных. Инстанцировать кортеж можно следующими способами:"
   ]
  },
  {
   "cell_type": "code",
   "execution_count": 13,
   "metadata": {},
   "outputs": [],
   "source": [
    "a = ()\n",
    "\n",
    "b = 1,\n",
    "\n",
    "c = (1,)\n",
    "\n",
    "d = 1, 2, 3\n",
    "\n",
    "e = (1, 2, 3)\n",
    "\n",
    "f = tuple()\n",
    "\n",
    "g = tuple([1, 2, 3])"
   ]
  },
  {
   "cell_type": "code",
   "execution_count": 2,
   "metadata": {},
   "outputs": [],
   "source": [
    "a = ([1,2,3], (1,2,3,))"
   ]
  },
  {
   "cell_type": "code",
   "execution_count": 4,
   "metadata": {},
   "outputs": [
    {
     "data": {
      "text/plain": [
       "[1, 2, 3]"
      ]
     },
     "execution_count": 4,
     "metadata": {},
     "output_type": "execute_result"
    }
   ],
   "source": [
    "a[0]"
   ]
  },
  {
   "cell_type": "code",
   "execution_count": 5,
   "metadata": {},
   "outputs": [
    {
     "name": "stdout",
     "output_type": "stream",
     "text": [
      "([1, 2, 3, 4], (1, 2, 3))\n"
     ]
    }
   ],
   "source": [
    "a[0].append(4)\n",
    "print(a)"
   ]
  },
  {
   "cell_type": "markdown",
   "metadata": {},
   "source": [
    "# Основные методы\n",
    "- count - возвращает количество элементов в кортеже;\n",
    "- index - возвращает индекс первого вхождения элемента в кортеж.\n",
    "\n",
    "# Примеры использования\n"
   ]
  },
  {
   "cell_type": "code",
   "execution_count": 14,
   "metadata": {},
   "outputs": [
    {
     "data": {
      "text/plain": [
       "3"
      ]
     },
     "execution_count": 14,
     "metadata": {},
     "output_type": "execute_result"
    }
   ],
   "source": [
    "(1, 2, 2, 3, 2).count(2)"
   ]
  },
  {
   "cell_type": "code",
   "execution_count": 15,
   "metadata": {},
   "outputs": [
    {
     "data": {
      "text/plain": [
       "1"
      ]
     },
     "execution_count": 15,
     "metadata": {},
     "output_type": "execute_result"
    }
   ],
   "source": [
    "(1, 2, 2, 3, 2).index(2)"
   ]
  },
  {
   "cell_type": "markdown",
   "metadata": {},
   "source": [
    "# Дополнительная информация\n",
    "- Кортеж занимает в памяти меньше места, чем список аналогичного наполнения;\n",
    "- Кортеж, несмотря на неизменяемость, может содержать изменяемые элементы. Например, списки;\n",
    "- Кортеж может быть использован как ключ словаря."
   ]
  },
  {
   "cell_type": "markdown",
   "metadata": {},
   "source": [
    "# Словарь\n",
    "Изменяемая (mutable) неупорядоченная (порядок следования элементов зависит от версии) структура данных. Хранит пары \"ключ-значение\". Инстанцировать словарь можно следующими способами:"
   ]
  },
  {
   "cell_type": "code",
   "execution_count": 16,
   "metadata": {},
   "outputs": [],
   "source": [
    "a = {}\n",
    "\n",
    "b = {'a': 1, 'b': 2}\n",
    "\n",
    "c = dict()\n",
    "\n",
    "d = dict(a=1, b=2)\n"
   ]
  },
  {
   "cell_type": "markdown",
   "metadata": {},
   "source": [
    "# Основные методы\n",
    "- update - обновляет словарь парами \"ключ-значение\";\n",
    "- get - возвращает элемент по ключу;\n",
    "- pop - удаляет элемент по ключу и возвращает его;\n",
    "- items - возвращает последовательность, содержащую кортежи из пар \"ключ-значение\";\n",
    "- keys - возвращает последовательность ключей словаря;\n",
    "- values - возвращает последовательность значений словаря;\n",
    "\n",
    "# Примеры использования"
   ]
  },
  {
   "cell_type": "code",
   "execution_count": 17,
   "metadata": {
    "tags": []
   },
   "outputs": [
    {
     "name": "stdout",
     "output_type": "stream",
     "text": [
      "{1: 2, 3: 4}\n"
     ]
    }
   ],
   "source": [
    "a = {}\n",
    "a.update({1: 2, 3: 4})\n",
    "print(a)"
   ]
  },
  {
   "cell_type": "code",
   "execution_count": 18,
   "metadata": {},
   "outputs": [
    {
     "data": {
      "text/plain": [
       "4"
      ]
     },
     "execution_count": 18,
     "metadata": {},
     "output_type": "execute_result"
    }
   ],
   "source": [
    "{1: 2, 3: 4}[3]"
   ]
  },
  {
   "cell_type": "code",
   "execution_count": 19,
   "metadata": {},
   "outputs": [
    {
     "data": {
      "text/plain": [
       "4"
      ]
     },
     "execution_count": 19,
     "metadata": {},
     "output_type": "execute_result"
    }
   ],
   "source": [
    "{1: 2, 3: 4}.get(3)"
   ]
  },
  {
   "cell_type": "code",
   "execution_count": 20,
   "metadata": {},
   "outputs": [
    {
     "data": {
      "text/plain": [
       "2"
      ]
     },
     "execution_count": 20,
     "metadata": {},
     "output_type": "execute_result"
    }
   ],
   "source": [
    "{1: 2, 3: 4}.pop(1)"
   ]
  },
  {
   "cell_type": "code",
   "execution_count": 21,
   "metadata": {},
   "outputs": [
    {
     "data": {
      "text/plain": [
       "dict_items([(1, 2), (3, 4)])"
      ]
     },
     "execution_count": 21,
     "metadata": {},
     "output_type": "execute_result"
    }
   ],
   "source": [
    "{1: 2, 3: 4}.items()"
   ]
  },
  {
   "cell_type": "code",
   "execution_count": 22,
   "metadata": {},
   "outputs": [
    {
     "data": {
      "text/plain": [
       "dict_keys([1, 3])"
      ]
     },
     "execution_count": 22,
     "metadata": {},
     "output_type": "execute_result"
    }
   ],
   "source": [
    "{1: 2, 3: 4}.keys() "
   ]
  },
  {
   "cell_type": "code",
   "execution_count": 23,
   "metadata": {},
   "outputs": [
    {
     "data": {
      "text/plain": [
       "dict_values([2, 4])"
      ]
     },
     "execution_count": 23,
     "metadata": {},
     "output_type": "execute_result"
    }
   ],
   "source": [
    "{1: 2, 3: 4}.values()"
   ]
  },
  {
   "cell_type": "markdown",
   "metadata": {},
   "source": [
    "# Дополнительная информация\n",
    "\n",
    "- Ключами словаря могут быть hashable-объекты;\n",
    "- Методы .items(), .keys() и .values(), в зависимости от версии python, могут возвращать не только list, но и специализированные типы, например, dict_items;"
   ]
  },
  {
   "cell_type": "markdown",
   "metadata": {},
   "source": [
    "# Множество\n",
    "\n",
    "Изменяемая (mutable) неупорядоченная структура данных. Хранит набор неповторяющихся элементов. Инстанцировать множество можно следующими способами:"
   ]
  },
  {
   "cell_type": "code",
   "execution_count": 24,
   "metadata": {},
   "outputs": [],
   "source": [
    "a = set()\n",
    "\n",
    "b = set([1, 2, 3])\n",
    "\n",
    "c = {1, 2, 3}"
   ]
  },
  {
   "cell_type": "markdown",
   "metadata": {},
   "source": [
    "# Основные методы\n",
    "- add - добавляет элемент в множество;\n",
    "- difference - возвращает множество, которое содержит элементы, отсутствующие во втором множестве;\n",
    "- intersection - возвращает множество, которое содержит пересекающиеся элементы двух множеств;\n",
    "- pop - удаляет произвольный элемент из множества и возвращает его;\n",
    "\n",
    "# Примеры использования"
   ]
  },
  {
   "cell_type": "code",
   "execution_count": 25,
   "metadata": {
    "tags": []
   },
   "outputs": [
    {
     "name": "stdout",
     "output_type": "stream",
     "text": [
      "{1}\n"
     ]
    }
   ],
   "source": [
    "a = set()\n",
    "a.add(1)\n",
    "print(a)"
   ]
  },
  {
   "cell_type": "code",
   "execution_count": 26,
   "metadata": {},
   "outputs": [
    {
     "data": {
      "text/plain": [
       "{1, 6}"
      ]
     },
     "execution_count": 26,
     "metadata": {},
     "output_type": "execute_result"
    }
   ],
   "source": [
    "set([1, 2, 3, 6]).difference(set([2, 3, 4]))"
   ]
  },
  {
   "cell_type": "code",
   "execution_count": 27,
   "metadata": {},
   "outputs": [
    {
     "data": {
      "text/plain": [
       "{2, 3}"
      ]
     },
     "execution_count": 27,
     "metadata": {},
     "output_type": "execute_result"
    }
   ],
   "source": [
    "set([1, 2, 3, 6]).intersection(set([2, 3, 4]))"
   ]
  },
  {
   "cell_type": "code",
   "execution_count": 28,
   "metadata": {},
   "outputs": [
    {
     "data": {
      "text/plain": [
       "1"
      ]
     },
     "execution_count": 28,
     "metadata": {},
     "output_type": "execute_result"
    }
   ],
   "source": [
    "set([1, 2, 3]).pop()"
   ]
  },
  {
   "cell_type": "markdown",
   "metadata": {},
   "source": [
    "# Дополнительная информация\n",
    "\n",
    "- Элементами множества могут быть hashable-объекты;\n",
    "- Методы .difference() и .intersection() имеют парные методы с постфиксом _update, которые не возвращают новое множество, а удаляют найденные элементы в изначальном множестве;\n",
    "- В редких случаях множество может содержать элементы, которые будут равны при прямом сравнении."
   ]
  },
  {
   "cell_type": "markdown",
   "metadata": {},
   "source": [
    "# Comprehension\n",
    "_Comprehensions_ или генераторные выражения (не путать с функциями-генераторами) - это удобный инструмент для создания последовательностей в inline-форме. Python поддерживает четыре таких типа:\n",
    "\n",
    "- списки (list comprehensions)\n",
    "- словари (dict comprehensions)\n",
    "- множества (set comprehensions)\n",
    "- генераторы (generator comprehensions)\n",
    "\n",
    "Генераторного выражения для кортежей не предусмотрено.\n",
    "\n",
    "## list comprehensions\n",
    "Создает список. Общий вид:\n",
    "\n",
    "```python\n",
    "результирующий_список = [выходное_выражение for переменная in входная_последовательность if (условия_для_переменной)]\n",
    "```\n",
    "\n",
    "Блок `if` является необязательным. Блоков for может быть несколько (nested list comprehensions). \n",
    "\n",
    "Пример:"
   ]
  },
  {
   "cell_type": "code",
   "execution_count": 29,
   "metadata": {},
   "outputs": [
    {
     "data": {
      "text/plain": [
       "[1, 3, 5, 7, 9]"
      ]
     },
     "execution_count": 29,
     "metadata": {},
     "output_type": "execute_result"
    }
   ],
   "source": [
    "result = [x+1 for x in range(10) if x % 2 == 0]\n",
    "result"
   ]
  },
  {
   "cell_type": "markdown",
   "metadata": {},
   "source": [
    "# Управление потоком выполнения\n",
    "\n",
    "Операторы управления потоком выполнения необходимы для изменения направления действий в зависимости от условий. Python содержит следующие конструкции для управления потоком выполнения:\n",
    "\n",
    "- условия - if, elif, else;\n",
    "- циклы - for, while;\n",
    "- ветвление - break, continue.\n",
    "\n",
    "# Операторы if, elif, else\n",
    "\n",
    "Используются для контроля за потоком на основе выполнения/невыполнения одного или нескольких условий. Общий вид конструкции:\n",
    "\n",
    "```python\n",
    "if условие1:\n",
    "    действие1\n",
    "elif условие2:\n",
    "    действие2\n",
    "else:\n",
    "    действие3\n",
    "```    \n",
    "# Пример:"
   ]
  },
  {
   "cell_type": "code",
   "execution_count": 30,
   "metadata": {
    "tags": []
   },
   "outputs": [
    {
     "name": "stdout",
     "output_type": "stream",
     "text": [
      "Положительное число\n"
     ]
    }
   ],
   "source": [
    "x = 5\n",
    "\n",
    "if x == 0:\n",
    "    print('Ноль')\n",
    "elif x > 0:\n",
    "    print('Положительное число')\n",
    "else:\n",
    "    print('Отрицательное число')"
   ]
  },
  {
   "cell_type": "markdown",
   "metadata": {},
   "source": [
    "Блоки elif и else являются необязательными и могут отсутствовать. При этом блоков elif может быть больше одного.\n",
    "\n",
    "# Цикл while\n",
    "\n",
    "Цикл while используется для повторения определенного набора действий пока заданное условие истинно. Общий вид конструкции:\n",
    "\n",
    "```python\n",
    "while условие:\n",
    "    действие\n",
    "```\n",
    "\n",
    "# Пример:"
   ]
  },
  {
   "cell_type": "code",
   "execution_count": 6,
   "metadata": {
    "tags": []
   },
   "outputs": [
    {
     "name": "stdout",
     "output_type": "stream",
     "text": [
      "1\n"
     ]
    }
   ],
   "source": [
    "x = 5\n",
    "\n",
    "while x > 1:\n",
    "    x = 1\n",
    "    print(x)\n",
    "    x -= 1"
   ]
  },
  {
   "cell_type": "markdown",
   "metadata": {},
   "source": [
    "# Оператор break\n",
    "Оператор break используется для прерывания выполнения тела цикла и последующего выхода из него. Пример:"
   ]
  },
  {
   "cell_type": "code",
   "execution_count": 32,
   "metadata": {
    "tags": []
   },
   "outputs": [
    {
     "name": "stdout",
     "output_type": "stream",
     "text": [
      "5\n",
      "4\n"
     ]
    }
   ],
   "source": [
    "x = 5\n",
    "\n",
    "while x > 1:    \n",
    "    if x == 3:\n",
    "        break\n",
    "    print(x)\n",
    "    x -= 1"
   ]
  },
  {
   "cell_type": "markdown",
   "metadata": {},
   "source": [
    "# Оператор continue\n",
    "Оператор continue используется для прерывания выполнения тела цикла и перехода к следующей итерации цикла.  \n",
    "\n",
    "Пример:"
   ]
  },
  {
   "cell_type": "code",
   "execution_count": 8,
   "metadata": {
    "tags": []
   },
   "outputs": [
    {
     "name": "stdout",
     "output_type": "stream",
     "text": [
      "5\n",
      "4\n",
      "2\n",
      "1\n"
     ]
    }
   ],
   "source": [
    "# Исправить ошибку, чтобы вывелось 5 4 2 1\n",
    "x = 5\n",
    "\n",
    "while x >= 1:\n",
    "    if x == 3:\n",
    "        x -= 1\n",
    "        continue\n",
    "    print(x)\n",
    "    x -= 1"
   ]
  },
  {
   "cell_type": "markdown",
   "metadata": {},
   "source": [
    "# Цикл for\n",
    "\n",
    "Цикл for используется для итерации по любой последовательности, например по списку, множеству, строке и другим. Он обращается к каждому элементу последовательности и выполняет тело цикла. Общий вид конструкции:\n",
    "\n",
    "```python\n",
    "for элемент in последовательность:\n",
    "    действие\n",
    "```\n",
    "\n",
    "Пример:"
   ]
  },
  {
   "cell_type": "code",
   "execution_count": 34,
   "metadata": {
    "tags": []
   },
   "outputs": [
    {
     "name": "stdout",
     "output_type": "stream",
     "text": [
      "0\n",
      "1\n",
      "2\n",
      "3\n",
      "4\n",
      "5\n",
      "6\n",
      "7\n",
      "8\n",
      "9\n"
     ]
    }
   ],
   "source": [
    "for item in range(10):\n",
    "    print(item)"
   ]
  },
  {
   "cell_type": "code",
   "execution_count": 10,
   "metadata": {},
   "outputs": [
    {
     "name": "stdout",
     "output_type": "stream",
     "text": [
      "1\n",
      "2\n",
      "3\n",
      "4\n",
      "5\n",
      "6\n",
      "7\n",
      "8\n",
      "9\n",
      "0\n"
     ]
    }
   ],
   "source": [
    "for item in '1234567890':\n",
    "    print(item)"
   ]
  },
  {
   "cell_type": "markdown",
   "metadata": {},
   "source": [
    "Вместе с циклом for может быть использован оператор else. Его тело будет выполнено в случае, если цикл завершился для всей последовательности. Прервать выполнение цикла, как было указано выше, можно при помощи оператора break:"
   ]
  },
  {
   "cell_type": "code",
   "execution_count": 35,
   "metadata": {
    "tags": []
   },
   "outputs": [
    {
     "name": "stdout",
     "output_type": "stream",
     "text": [
      "1\n",
      "2\n",
      "3\n",
      "4\n",
      "5\n",
      "6\n",
      "7\n",
      "8\n",
      "9\n",
      "Нулевые значения не найдены\n"
     ]
    }
   ],
   "source": [
    "for item in range(1, 10):\n",
    "    if item == 0:\n",
    "        break\n",
    "    print(item)\n",
    "else:\n",
    "    print('Нулевые значения не найдены')"
   ]
  },
  {
   "cell_type": "markdown",
   "metadata": {},
   "source": [
    "# Задания\n",
    "\n",
    "## Задание 1\n",
    "\n",
    "Через командную строку вводится список из чисел, числа разделены пробелами. Преобразовать в список, найти и вывести его через пробел сумму, максимум, минимум. \n",
    "  - Если какой-то элемент не является числом, вывести -1.\n",
    "  - Решить двумя способами\n",
    "    - С помощью ручного перебора списка (`max_min_1_1.py`)\n",
    "    - С помощью встроенных функций (`max_min_1_2.py`)\n",
    "  \n",
    "ВВОД: `12 -3 4 -5 9`\n",
    "\n",
    "ВЫВОД: `17 12 -5`\n",
    "\n",
    "---\n",
    "\n",
    "ВВОД: `12 a 4 -5 9`\n",
    "\n",
    "ВЫВОД: `-1`"
   ]
  },
  {
   "cell_type": "code",
   "execution_count": null,
   "metadata": {},
   "outputs": [],
   "source": []
  },
  {
   "cell_type": "markdown",
   "metadata": {},
   "source": [
    "## Задание 2\n",
    "Аналогично предыдущему, только для каждого второго элемента (начиная с нулевого), чей индекс не превышает половины длины массива. \n",
    "  - Решить двумя способами\n",
    "    - С помощью ручного перебора списка (`max_min_2_1.py`)\n",
    "    - С помощью встроенных функций (`max_min_2_2.py`)\n",
    "  \n",
    "ВВОД: `12 -3 4 -5 9`\n",
    "\n",
    "ВЫВОД: `16 12 4`\n",
    "\n",
    "---\n",
    "\n",
    "ВВОД: `12 a 4 -5 9`\n",
    "\n",
    "ВЫВОД: `-1`"
   ]
  },
  {
   "cell_type": "code",
   "execution_count": null,
   "metadata": {},
   "outputs": [],
   "source": []
  },
  {
   "cell_type": "markdown",
   "metadata": {},
   "source": [
    "## Задание 3\n",
    "Аналогично предыдущему, только с конца (начиная с последнего элемента) для элементов, чей индекс превышает половину длины массива.\n",
    "  - Решить двумя способами\n",
    "    - С помощью ручного перебора списка (`max_min_3_1.py`)\n",
    "    - С помощью встроенных функций (`max_min_3_2.py`)\n",
    "\n",
    "ВВОД: `12 -3 4 -5 9`\n",
    "\n",
    "ВЫВОД: `9 9 9`  \n",
    "\n",
    "---\n",
    "\n",
    "ВВОД: `12 a 4 -5 9`\n",
    "\n",
    "ВЫВОД: `-1`"
   ]
  },
  {
   "cell_type": "code",
   "execution_count": null,
   "metadata": {},
   "outputs": [],
   "source": []
  },
  {
   "cell_type": "markdown",
   "metadata": {},
   "source": [
    "## Задание 4\n",
    "\n",
    "`yes_no.py`\n",
    "\n",
    "Через командную строку вводится список из чисел, числа разделены пробелами. Преобразовать в список, вывести yes, если хотя бы в одном элементе списка присутствует нечётная цифра, иначе вывести no.\n",
    "\n",
    "ВВОД: `12 2 4 -5 9`\n",
    "\n",
    "ВЫВОД: `yes`\n",
    "\n",
    "---\n",
    "\n",
    "ВВОД: `22 2 4 -6 22`\n",
    "\n",
    "ВЫВОД: `no`"
   ]
  },
  {
   "cell_type": "code",
   "execution_count": null,
   "metadata": {},
   "outputs": [],
   "source": []
  },
  {
   "cell_type": "markdown",
   "metadata": {},
   "source": [
    "## Задание 5\n",
    "\n",
    "`triangle.py`\n",
    "\n",
    "Вводится натуральное число n. Вывести n-ую строку треугольника Паскаля (принтануть список как print(result_lst). Задействовать не более O(n) памяти\n",
    "\n",
    "ВВОД: `4`\n",
    "\n",
    "ВЫВОД: `[1, 4, 6, 4, 1]`\n",
    "\n",
    "---\n",
    "\n",
    "ВВОД: `0`\n",
    "\n",
    "ВЫВОД: `[1]`"
   ]
  },
  {
   "cell_type": "code",
   "execution_count": null,
   "metadata": {},
   "outputs": [],
   "source": []
  },
  {
   "cell_type": "markdown",
   "metadata": {},
   "source": [
    "## Задание 5\n",
    "\n",
    "`triangle_2.py`\n",
    "\n",
    "Аналогично предыдущему, только вывести список как строку, где числа отделяются друг от друга пробелом\n",
    "\n",
    "ВВОД: `4`\n",
    "\n",
    "ВЫВОД: `1 4 6 4 1`\n",
    "\n",
    "---\n",
    "\n",
    "ВВОД: `0`\n",
    "\n",
    "ВЫВОД: `1`"
   ]
  },
  {
   "cell_type": "code",
   "execution_count": null,
   "metadata": {},
   "outputs": [],
   "source": []
  },
  {
   "cell_type": "markdown",
   "metadata": {},
   "source": [
    "# ДЗ\n",
    "\n",
    "- (fibonachi.py) Вводится число n. Вывести n-е по счету число Фибоначчи.\n",
    "  - Использовать встроенные функции запрещено.\n",
    "- (odd.py) Через командную строку вводится список из чисел, числа разделены пробелами.\n",
    "  - Посчитать и вывести количество нечетных чисел в массиве.\n",
    "- (yes_no.py) Через командную строку вводится список из чисел, числа разделены пробелами.\n",
    "  - Вывести yes, если в первой половине списка (index < len(lst) // 2) существует хотя бы одно число (с чётным индексом в списке), в котором все цифры нечётные. \n",
    "  - Иначе вывести no.\n",
    "  - Внимание! Каждое число необходимо преобразовать в int, проверку чётности выполнять уже с преобразованным типом!\n",
    "- (reverse.py) Через командную строку вводится список из чисел, числа разделены пробелами. \n",
    "  - Необходимо развернуть список и вывести как строку, где числа отделяются друг от друга пробелом.\n",
    "  - Обращаю внимание! Список нужно развернуть на месте, т.е. нельзя создавать дополнительный список и записывать туда элементы в обратном порядке.\n",
    "- (formula.py) Вводится n, подсчитать и вывести результат произведения. \n",
    "  - Какое число получается? Что будет при увеличении n? (написать в комментариях в коде).\n",
    "\n",
    "$$r_n=\\frac{2}{1}\\cdot\\frac{2}{3}\\cdot\\frac{4}{3}\\cdot\\frac{4}{5}\\cdot\\frac{6}{5}\\cdot\\frac{6}{7}\\cdot...\\cdot\\frac{2n}{2n-1}\\cdot\\frac{2n}{2n+1}$$"
   ]
  },
  {
   "cell_type": "code",
   "execution_count": null,
   "metadata": {},
   "outputs": [],
   "source": []
  }
 ],
 "metadata": {
  "kernelspec": {
   "display_name": "Python 3.8.5 64-bit ('venv': venv)",
   "language": "python",
   "name": "python38564bitvenvvenv00e19ac7737949998ba8aff469053ee2"
  },
  "language_info": {
   "codemirror_mode": {
    "name": "ipython",
    "version": 3
   },
   "file_extension": ".py",
   "mimetype": "text/x-python",
   "name": "python",
   "nbconvert_exporter": "python",
   "pygments_lexer": "ipython3",
   "version": "3.8.5"
  }
 },
 "nbformat": 4,
 "nbformat_minor": 4
}
